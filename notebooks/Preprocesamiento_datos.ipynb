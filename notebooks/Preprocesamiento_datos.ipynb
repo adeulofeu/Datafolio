{
 "cells": [
  {
   "cell_type": "code",
   "execution_count": 1,
   "metadata": {},
   "outputs": [],
   "source": [
    "import pandas as pd\n",
    "import numpy as np\n",
    "import unicodedata\n",
    "import datetime as dt"
   ]
  },
  {
   "cell_type": "code",
   "execution_count": 2,
   "metadata": {},
   "outputs": [],
   "source": [
    "# Normalización de texto\n",
    "def normalize_text(text):\n",
    "    if pd.isna(text):\n",
    "        return \"\"\n",
    "    text = text.upper()\n",
    "    text = ''.join(\n",
    "        char for char in unicodedata.normalize('NFD', text) \n",
    "        if unicodedata.category(char) != 'Mn'\n",
    "    )\n",
    "    return text\n",
    "\n",
    "# Limpieza de nombres específicos de municipios\n",
    "def clean_municipio(text):\n",
    "    replacements = {\n",
    "        \"BOGOTA, D.C\": \"BOGOTA\",\n",
    "        \"BOGOTA D.C\": \"BOGOTA\",\n",
    "        \"CARTAGENA DE INDIAS\": \"CARTAGENA\"\n",
    "    }\n",
    "    return replacements.get(text, text)\n"
   ]
  },
  {
   "cell_type": "code",
   "execution_count": 3,
   "metadata": {},
   "outputs": [],
   "source": [
    "#Población por ciudades\n",
    "url = \"Datasets/Poblacion_municipios.xlsx\"\n",
    "usecols = ['Municipio','Departamento', 'Poblacion Total']\n",
    "dtype = {\n",
    "    'Municipio': 'str',\n",
    "    'Departamento': 'str',\n",
    "    'Poblacion Total': 'float64'\n",
    "}\n",
    "\n",
    "# Leer el archivo CSV con las columnas necesarias y los tipos de datos especificados\n",
    "pobla_municipio = pd.read_excel(url, usecols=usecols, dtype=dtype)\n"
   ]
  },
  {
   "cell_type": "code",
   "execution_count": 4,
   "metadata": {},
   "outputs": [],
   "source": [
    "# Se aplica la normalización de datos de tipo texto en las columnas Municipio y departamento\n",
    "pobla_municipio['Municipio'] = pobla_municipio['Municipio'].apply(normalize_text)\n",
    "pobla_municipio['Departamento'] = pobla_municipio['Departamento'].apply(normalize_text)"
   ]
  },
  {
   "cell_type": "code",
   "execution_count": 5,
   "metadata": {},
   "outputs": [],
   "source": [
    "# Filtrar las primeras 15 ciudades\n",
    "departamentos = pobla_municipio['Departamento'].head(12)\n",
    "departamentos = departamentos.unique()"
   ]
  },
  {
   "cell_type": "markdown",
   "metadata": {},
   "source": [
    "Temperaturas"
   ]
  },
  {
   "cell_type": "code",
   "execution_count": 6,
   "metadata": {},
   "outputs": [],
   "source": [
    "# Temperaturas por departamento\n",
    "# Crear un rango de fechas desde el 2007-01-01 hasta el 2024-12-31\n",
    "Temp = pd.date_range(start='2007-01-01', end='2024-12-31', freq='D')\n",
    "\n",
    "# Crear un DataFrame con estas fechas\n",
    "Temp = pd.DataFrame(Temp, columns=['FechaObservacion'])\n",
    "Temp['FechaObservacion'] = pd.to_datetime(Temp['FechaObservacion']).dt.strftime(\"%Y-%m-%d\")\n",
    "Temp['FechaObservacion'] = Temp['FechaObservacion'].str.strip()"
   ]
  },
  {
   "cell_type": "code",
   "execution_count": 7,
   "metadata": {},
   "outputs": [],
   "source": [
    "for row in departamentos:\n",
    "    departamento = row\n",
    "\n",
    "    # Nombre del archivo basado en el departamento\n",
    "    archivo_csv = f\"Datasets/Temperatura {departamento}.csv\"\n",
    "\n",
    "    usecols = ['FechaObservacion','Municipio','Departamento', 'ValorObservado']\n",
    "    dtype = {\n",
    "        'FechaObservacion' : 'str',\n",
    "        'Municipio': 'str',\n",
    "        'Departamento': 'str',\n",
    "        'ValorObservado': 'float64'\n",
    "    }\n",
    "\n",
    "    # Leer el archivo CSV\n",
    "    df_temperatura = pd.read_csv(archivo_csv, usecols=usecols, dtype=dtype)\n",
    "\n",
    "    # Normalizar valores de ciudad para comparar\n",
    "    df_temperatura['Municipio'] = df_temperatura['Municipio'].apply(normalize_text)\n",
    "\n",
    "    # Cambiar valores de ciudades registrada de manera diferente\n",
    "    df_temperatura['Municipio'] = df_temperatura['Municipio'].replace(\n",
    "        {'BOGOTA, D.C': 'BOGOTA',\n",
    "         'BOGOTA D.C': 'BOGOTA',\n",
    "        'CARTAGENA DE INDIAS': 'CARTAGENA'}\n",
    "    )\n",
    "\n",
    "    # Convertir 'FechaObservacion' a datetime64[ns] con el formato correcto\n",
    "    df_temperatura['FechaObservacion'] = df_temperatura['FechaObservacion'].str.split(\" \").str[0]\n",
    "    df_temperatura['FechaObservacion'] = pd.to_datetime(df_temperatura['FechaObservacion']).dt.strftime(\"%Y-%m-%d\")\n",
    "\n",
    "    # Primera agrupacion por fecha\n",
    "    df_temperatura = df_temperatura.groupby(by=[\"FechaObservacion\"])[\"ValorObservado\"].mean().reset_index()\n",
    "    df_temperatura[\"FechaObservacion\"] = df_temperatura[\"FechaObservacion\"].str.strip()\n",
    "\n",
    "    # Cambio de nombre de la variable de temperatura\n",
    "    df_temperatura = df_temperatura.rename(columns={'ValorObservado':f'Temp_{departamento}'})\n",
    "\n",
    "    # Union de Dataframe\n",
    "    Temp = Temp.merge(df_temperatura,on='FechaObservacion',how='left')\n",
    "\n"
   ]
  },
  {
   "cell_type": "code",
   "execution_count": 8,
   "metadata": {},
   "outputs": [],
   "source": [
    "# Extraer el año y el mes\n",
    "Temp['Año'] = Temp['FechaObservacion'].str.split(\"-\").str[0]\n",
    "Temp['Mes'] = Temp['FechaObservacion'].str.split(\"-\").str[1]\n",
    "\n",
    "# Seleccionar columnas de temperatura\n",
    "columnas_temperatura = [col for col in Temp.columns if col.startswith('Temp_')]\n",
    "\n",
    "# Imputar valores faltantes con el promedio mensual y, si persisten, usar el mes anterior\n",
    "for col in columnas_temperatura:\n",
    "    # Paso 1: Imputar con el promedio mensual (por Año y Mes)\n",
    "    Temp[col] = Temp.groupby(['Año', 'Mes'])[col].transform(lambda x: x.fillna(x.mean()))\n",
    "    \n",
    "    # Paso 2: Identificar meses completos sin datos y rellenarlos con el promedio del mes anterior\n",
    "    # Calcular el promedio del mes anterior si existen NaN persistentes\n",
    "    for i in range(1, len(Temp)):\n",
    "        if pd.isna(Temp.loc[i, col]) and i > 0:\n",
    "            Temp.loc[i, col] = Temp.loc[i - 1, col]"
   ]
  },
  {
   "cell_type": "code",
   "execution_count": 9,
   "metadata": {},
   "outputs": [],
   "source": [
    "Temp.to_csv(\"Temperaturas_Dpto.csv\",index=False)"
   ]
  }
 ],
 "metadata": {
  "kernelspec": {
   "display_name": "Python 3",
   "language": "python",
   "name": "python3"
  },
  "language_info": {
   "codemirror_mode": {
    "name": "ipython",
    "version": 3
   },
   "file_extension": ".py",
   "mimetype": "text/x-python",
   "name": "python",
   "nbconvert_exporter": "python",
   "pygments_lexer": "ipython3",
   "version": "3.12.0"
  }
 },
 "nbformat": 4,
 "nbformat_minor": 2
}
